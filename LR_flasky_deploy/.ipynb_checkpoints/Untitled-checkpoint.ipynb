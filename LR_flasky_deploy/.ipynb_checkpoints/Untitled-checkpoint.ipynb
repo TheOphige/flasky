{
 "cells": [
  {
   "cell_type": "code",
   "execution_count": null,
   "id": "58a5a3b6",
   "metadata": {},
   "outputs": [
    {
     "name": "stdout",
     "output_type": "stream",
     "text": [
      " * Serving Flask app '__main__'\n",
      " * Debug mode: off\n"
     ]
    },
    {
     "name": "stderr",
     "output_type": "stream",
     "text": [
      "WARNING: This is a development server. Do not use it in a production deployment. Use a production WSGI server instead.\n",
      " * Running on all addresses (0.0.0.0)\n",
      " * Running on http://127.0.0.1:5000\n",
      " * Running on http://127.0.0.1:5000\n",
      "Press CTRL+C to quit\n",
      "127.0.0.1 - - [24/Apr/2023 14:01:38] \"GET / HTTP/1.1\" 200 -\n"
     ]
    },
    {
     "name": "stdout",
     "output_type": "stream",
     "text": [
      "4\n",
      "4\n",
      "4\n",
      "4\n",
      "4\n"
     ]
    },
    {
     "name": "stderr",
     "output_type": "stream",
     "text": [
      "C:\\Users\\USER\\AppData\\Local\\Programs\\Python\\Python310\\lib\\site-packages\\sklearn\\base.py:420: UserWarning: X does not have valid feature names, but LinearRegression was fitted with feature names\n",
      "  warnings.warn(\n",
      "127.0.0.1 - - [24/Apr/2023 14:01:50] \"POST /predict HTTP/1.1\" 200 -\n",
      "C:\\Users\\USER\\AppData\\Local\\Programs\\Python\\Python310\\lib\\site-packages\\sklearn\\base.py:420: UserWarning: X does not have valid feature names, but LinearRegression was fitted with feature names\n",
      "  warnings.warn(\n",
      "127.0.0.1 - - [24/Apr/2023 14:04:57] \"POST /predict HTTP/1.1\" 200 -\n"
     ]
    },
    {
     "name": "stdout",
     "output_type": "stream",
     "text": [
      "600\n",
      "588\n",
      "90\n",
      "0.358\n",
      "0.333\n"
     ]
    }
   ],
   "source": [
    "import pandas as pd\n",
    "import numpy as np\n",
    "import sklearn\n",
    "import joblib\n",
    "from flask import Flask, render_template, request\n",
    "\n",
    "app = Flask(__name__)\n",
    "\n",
    "@app.route('/')\n",
    "def home():\n",
    "    return render_template('home.html')\n",
    "\n",
    "@app.route('/predict', methods= ['GET', 'POST'])\n",
    "def predict():\n",
    "    if request.method =='POST':\n",
    "       print(request.form.get('var_1'))\n",
    "       print(request.form.get('var_2'))\n",
    "       print(request.form.get('var_3'))\n",
    "       print(request.form.get('var_4'))                                                                                                                     \n",
    "       print(request.form.get('var_5'))\n",
    "\n",
    "       try:\n",
    "            var_1=float(request.form['var_1'])\n",
    "            var_2=float(request.form['var_2'])\n",
    "            var_3=float(request.form['var_3'])\n",
    "            var_4=float(request.form['var_4'])\n",
    "            var_5=float(request.form['var_5'])\n",
    "\n",
    "            pred_args=[var_1,var_2,var_3,var_4,var_5]\n",
    "            pred_arr=np.array(pred_args)\n",
    "            preds=pred_arr.reshape(1,-1)\n",
    "\n",
    "            with open(\"linear_regression_model.pkl\",\"rb\") as model:\n",
    "                lr_model=joblib.load(model)\n",
    "                \n",
    "            model_prediction= lr_model.predict(preds)\n",
    "            model_prediction= round(float(model_prediction),2)\n",
    "        \n",
    "       except ValueError:\n",
    "            return \"Please Enter valid values\"\n",
    "       \n",
    "    return render_template('predict.html',prediction=model_prediction)\n",
    "\n",
    "\n",
    "if __name__ == '__main__':\n",
    "    app.run(host='0.0.0.0')"
   ]
  },
  {
   "cell_type": "code",
   "execution_count": null,
   "id": "57204b1d",
   "metadata": {},
   "outputs": [],
   "source": [
    "import pandas as pd\n",
    "import numpy as np\n",
    "import sklearn\n",
    "import joblib\n",
    "import pickle\n",
    "from flask import Flask, render_template, request\n",
    "\n",
    "var_1= 4\n",
    "var_2= 4\n",
    "\n",
    "pred_args=[var_1]\n",
    "pred_arr=np.array(pred_args)\n",
    "preds=pred_arr.reshape(1,-1)\n",
    "\n",
    "with open(\"linear_regression_model.pkl\",\"rb\") as model:\n",
    "       lr_model=joblib.load(model)\n",
    "                \n",
    "model_prediction= lr_model.predict(preds)\n",
    "model_prediction= round(float(model_prediction),2)\n",
    "model_prediction"
   ]
  },
  {
   "cell_type": "code",
   "execution_count": null,
   "id": "1a374d1b",
   "metadata": {},
   "outputs": [],
   "source": []
  }
 ],
 "metadata": {
  "kernelspec": {
   "display_name": "Python 3 (ipykernel)",
   "language": "python",
   "name": "python3"
  },
  "language_info": {
   "codemirror_mode": {
    "name": "ipython",
    "version": 3
   },
   "file_extension": ".py",
   "mimetype": "text/x-python",
   "name": "python",
   "nbconvert_exporter": "python",
   "pygments_lexer": "ipython3",
   "version": "3.10.0"
  }
 },
 "nbformat": 4,
 "nbformat_minor": 5
}
